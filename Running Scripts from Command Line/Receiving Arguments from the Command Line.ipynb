{
 "cells": [
  {
   "cell_type": "markdown",
   "metadata": {},
   "source": [
    "# Receiving Arguments from the Command line\n",
    "\n",
    "Receving arguments from the command line is possible via an inbuilt module in Python called 'sys'. This module provides access to variables used or maintained by the interpreter. Read more about the 'sys' module in the Python documentation\n",
    "\n",
    "# Hands On\n",
    "There is a python script in this folder called sys_arg.py. Now run the script from the command line passing a value along with it. Do it like this 'python sys_arg.py glow'\n",
    "\n",
    "### Result\n",
    "When you run that command you are meant to get a list containing some parameters. The first value is the name of the script we are running and the second value is the argument you passed along with the script."
   ]
  },
  {
   "cell_type": "markdown",
   "metadata": {},
   "source": [
    "## Explanation"
   ]
  },
  {
   "cell_type": "code",
   "execution_count": null,
   "metadata": {
    "collapsed": true
   },
   "outputs": [],
   "source": [
    "import sys # means we are telling Python that we need everything about sys in this script"
   ]
  },
  {
   "cell_type": "markdown",
   "metadata": {},
   "source": [
    "Importing 'sys' makes all the properties and methods defined inside of 'sys' avalable for our use. 'Sys' is like a file containing properties and methods. Anything thing we use the import on is called a module\n",
    "\n",
    "Without this line in the script we would not be able to run the code below.\n",
    "\n",
    "#### CURIOUS?\n",
    "Remove the import line in the script and then run the script from the command line. When you do this you are meant to get an error\n",
    "\n",
    "\n",
    "#### Read More \n",
    "imports and modules\n",
    "\n",
    "\n",
    "Later on we would be creating out own module"
   ]
  },
  {
   "cell_type": "code",
   "execution_count": null,
   "metadata": {
    "collapsed": false
   },
   "outputs": [],
   "source": [
    "print sys.argv"
   ]
  },
  {
   "cell_type": "markdown",
   "metadata": {},
   "source": [
    "argv is a method(function) defined inside of 'sys'. As we now know what is does, it returns a list of arguments passed to the script from the command line. \n",
    "\n",
    "    Since we know that we will get a list as a result, this means that we can apply all the methods that apply to list data types to the method\n",
    "    For example:"
   ]
  },
  {
   "cell_type": "code",
   "execution_count": null,
   "metadata": {
    "collapsed": false
   },
   "outputs": [],
   "source": [
    "print sys.argv[1:]"
   ]
  },
  {
   "cell_type": "markdown",
   "metadata": {},
   "source": [
    "This would give you a list excluding the first item from the former code. if you do not understand all this try comparing"
   ]
  },
  {
   "cell_type": "code",
   "execution_count": null,
   "metadata": {
    "collapsed": false
   },
   "outputs": [],
   "source": [
    "print sys.argv"
   ]
  },
  {
   "cell_type": "markdown",
   "metadata": {},
   "source": [
    "and"
   ]
  },
  {
   "cell_type": "code",
   "execution_count": null,
   "metadata": {
    "collapsed": false
   },
   "outputs": [],
   "source": [
    "print sys.argv[1:]"
   ]
  },
  {
   "cell_type": "markdown",
   "metadata": {},
   "source": [
    "# ---- What is the difference in the results from the two codes? -----"
   ]
  },
  {
   "cell_type": "markdown",
   "metadata": {},
   "source": [
    "# Practice\n",
    "\n",
    "1. Create a file and give it any name you want (make sure it is a python file)\n",
    "2. Make the file print out all the arguments passed to it from the command line\n",
    "3. Run the script from the command line passing to it 5 arguments from the command line"
   ]
  },
  {
   "cell_type": "markdown",
   "metadata": {},
   "source": [
    "###### Disclaimer\n",
    "For any errors pls contact the Group"
   ]
  },
  {
   "cell_type": "markdown",
   "metadata": {},
   "source": [
    "# Next\n",
    "Creating Modules"
   ]
  },
  {
   "cell_type": "code",
   "execution_count": null,
   "metadata": {
    "collapsed": true
   },
   "outputs": [],
   "source": []
  }
 ],
 "metadata": {
  "kernelspec": {
   "display_name": "Python 2",
   "language": "python",
   "name": "python2"
  },
  "language_info": {
   "codemirror_mode": {
    "name": "ipython",
    "version": 2
   },
   "file_extension": ".py",
   "mimetype": "text/x-python",
   "name": "python",
   "nbconvert_exporter": "python",
   "pygments_lexer": "ipython2",
   "version": "2.7.11"
  }
 },
 "nbformat": 4,
 "nbformat_minor": 0
}
