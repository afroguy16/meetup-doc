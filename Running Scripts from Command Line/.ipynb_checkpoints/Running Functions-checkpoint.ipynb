{
 "cells": [
  {
   "cell_type": "markdown",
   "metadata": {},
   "source": [
    "# Running Functions from the Command Line\n",
    "\n",
    "We should be good with running print statements now and seeing the results on the command line.\n",
    "\n",
    "Practically, same thing goes for running functions in the command line. What I mean is that for running print statements is simply a line of code.\n",
    "\n",
    "For running a function on the command line:\n",
    "1. We have to define the function\n",
    "2. Inside the function write your code/logic\n",
    "3. Make a call to the function\n",
    "\n",
    "\n",
    "### Example"
   ]
  },
  {
   "cell_type": "code",
   "execution_count": 1,
   "metadata": {
    "collapsed": true
   },
   "outputs": [],
   "source": [
    "def hello():\n",
    "    print \"Hello World\""
   ]
  },
  {
   "cell_type": "markdown",
   "metadata": {},
   "source": [
    "if I should run the code above i would not get any result because i am not making a call to the function... let's make that call"
   ]
  },
  {
   "cell_type": "code",
   "execution_count": 2,
   "metadata": {
    "collapsed": false
   },
   "outputs": [
    {
     "name": "stdout",
     "output_type": "stream",
     "text": [
      "Hello World\n"
     ]
    }
   ],
   "source": [
    "hello()"
   ]
  },
  {
   "cell_type": "markdown",
   "metadata": {},
   "source": [
    "As you can see until i made a call to the hello function above before it gave me a result.... This is the same understanding we would apply to the Script we are about to create now"
   ]
  },
  {
   "cell_type": "markdown",
   "metadata": {},
   "source": [
    "# Hands On\n",
    "\n",
    "Create a file called script_function.py\n",
    "\n",
    "In the File:\n",
    "1. Define a function called hello\n",
    "2. Inside the function write a print function that prints out \"Hello World\"\n",
    "3. Outside function call the function like this hello()\n",
    "4. Open the command line and navigate to the directory where you have your file\n",
    "5. Run the script the same way you ran the print statement script\n",
    "\n",
    "And you should have the Hello world printed to the console"
   ]
  },
  {
   "cell_type": "markdown",
   "metadata": {},
   "source": [
    "# Practice\n",
    "\n",
    "1. Define 5 functions call them any name you want\n",
    "2. Inside the function write a print function that prints out different things\n",
    "3. Outside function call all the functions that you declared\n",
    "4. Open the command line and navigate to the directory where you have your file\n",
    "5. Run the script the same way you ran the print statement script\n",
    "\n",
    "And then you should have 5 stuffs printed to the console"
   ]
  },
  {
   "cell_type": "markdown",
   "metadata": {},
   "source": [
    "###### Disclaimer\n",
    "if you dont understand how to declare functions....... you should go and read about it\n",
    "For any other problem on running the script.... Pls contact the group"
   ]
  },
  {
   "cell_type": "markdown",
   "metadata": {},
   "source": [
    "# Next\n",
    "Receiving Arguments from the command Line"
   ]
  }
 ],
 "metadata": {
  "kernelspec": {
   "display_name": "Python 2",
   "language": "python",
   "name": "python2"
  },
  "language_info": {
   "codemirror_mode": {
    "name": "ipython",
    "version": 2
   },
   "file_extension": ".py",
   "mimetype": "text/x-python",
   "name": "python",
   "nbconvert_exporter": "python",
   "pygments_lexer": "ipython2",
   "version": "2.7.11"
  }
 },
 "nbformat": 4,
 "nbformat_minor": 0
}
