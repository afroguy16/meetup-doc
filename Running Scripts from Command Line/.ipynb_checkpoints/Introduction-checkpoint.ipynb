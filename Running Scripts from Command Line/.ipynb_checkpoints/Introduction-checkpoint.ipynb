{
 "cells": [
  {
   "cell_type": "markdown",
   "metadata": {},
   "source": [
    "# Running Scripts from the Command Line"
   ]
  },
  {
   "cell_type": "markdown",
   "metadata": {},
   "source": [
    "By now our python environment should be setup by now and we can now write and run commands on the command line. Running scripts from the command line is what all Python programmers should not about cos there are different uses and advantages using the command line. Though there are programmers that do not like the command line thingy and that doesnt make you a bad programmer it just means \"You just dont like it\" -- personal preference, and still this doesnt make you a bad programmer.\n",
    "\n",
    "   But for this meetup it is needed that you know command line scripting and some basic commands like (directory navigation, checking directories and all).\n",
    "    "
   ]
  },
  {
   "cell_type": "markdown",
   "metadata": {},
   "source": [
    "## Heads Up\n",
    "\n",
    "This is simply calling your file on the command line through python. \n",
    "In Python, all python files have the .py extension just like how HTML files would have .html extension\n",
    "\n",
    "##### Disclaimer\n",
    "You need to have python working well and globally on your system"
   ]
  },
  {
   "cell_type": "markdown",
   "metadata": {},
   "source": [
    "# Next\n",
    "\n",
    "Running Print Statements"
   ]
  },
  {
   "cell_type": "code",
   "execution_count": null,
   "metadata": {
    "collapsed": true
   },
   "outputs": [],
   "source": []
  }
 ],
 "metadata": {
  "kernelspec": {
   "display_name": "Python 2",
   "language": "python",
   "name": "python2"
  },
  "language_info": {
   "codemirror_mode": {
    "name": "ipython",
    "version": 2
   },
   "file_extension": ".py",
   "mimetype": "text/x-python",
   "name": "python",
   "nbconvert_exporter": "python",
   "pygments_lexer": "ipython2",
   "version": "2.7.11"
  }
 },
 "nbformat": 4,
 "nbformat_minor": 0
}
