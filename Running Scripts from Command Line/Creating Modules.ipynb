{
 "cells": [
  {
   "cell_type": "markdown",
   "metadata": {},
   "source": [
    "# Creating Modules\n",
    "\n",
    "This is easy.\n",
    "\n",
    "### Things to know\n",
    "1. How to import\n",
    "2. For now, files to import must be in the same directory as the file where you are importing to\n",
    "3. Calling functions from the imported file\n",
    "\n",
    "# Hands On\n",
    "\n",
    "1. Open the command line to this directory\n",
    "2. Enter into the python shell by typing 'python'\n",
    "3. Inside the python shell and run 'import first_module' --- you dont need to add the extension at the end\n",
    "4. Then run each function in the module\n",
    "\n",
    "##### Example"
   ]
  },
  {
   "cell_type": "code",
   "execution_count": null,
   "metadata": {
    "collapsed": false
   },
   "outputs": [],
   "source": [
    "first_module.magic()"
   ]
  },
  {
   "cell_type": "markdown",
   "metadata": {},
   "source": [
    "# Explanation\n",
    "\n",
    "We are importing a module called first_module, by now you should know what we mean by importing. Then we are calling functions inside the module we imported. Pls take note of how we imported the module.\n",
    "\n",
    "##### Notes\n",
    "1. We did not add the extension of the module because it is not needed. \n",
    "2. We accessed the functions inside the module by calling the function through the module name on the import - meaning that because we imported first_module it is first_module that we will use to access the functions inside the module. if the module were to have a different name eg. import go_module, it is go_module we will use to access the functions and properties defined in the go_module\n",
    "\n",
    "### Naming our Modules on import\n",
    "We can give our modules a different name on import.\n",
    "\n",
    "### Hands On\n",
    "1. Open the command line to the directory where you have the first_module.py\n",
    "2. Then enter in to the python shell\n",
    "3. Then run 'import first_module as fm'\n",
    "4. Access functions inside first_module like this"
   ]
  },
  {
   "cell_type": "code",
   "execution_count": null,
   "metadata": {
    "collapsed": false
   },
   "outputs": [],
   "source": [
    "fm.magic()"
   ]
  },
  {
   "cell_type": "markdown",
   "metadata": {},
   "source": [
    "This should give the same result as first_module.magic() because only gave first_module another name (like an a.k.a) by using the 'as' on our import statement\n",
    "\n",
    "## Read More\n",
    "Research more about import statements\n",
    "\n",
    "\n",
    "# Practice\n",
    "1. Create a file and call it function_module.py\n",
    "2. Inside functions.py define 5 functions that prints anything you want to the console\n",
    "3. Create another file and call it script.py\n",
    "4. Inside script.py, import your function_module.py (you can use the 'as' on the import to give the import statement a name you want\n",
    "5. After the import statement, make a call to all the functions you have defined in the function_module.py"
   ]
  },
  {
   "cell_type": "markdown",
   "metadata": {},
   "source": [
    "# Note\n",
    "For more help contact us on the group, Thanks\n",
    "\n",
    "\n",
    "# Next\n",
    "Beautiful Soup and Web Scraping"
   ]
  }
 ],
 "metadata": {
  "kernelspec": {
   "display_name": "Python 2",
   "language": "python",
   "name": "python2"
  },
  "language_info": {
   "codemirror_mode": {
    "name": "ipython",
    "version": 2
   },
   "file_extension": ".py",
   "mimetype": "text/x-python",
   "name": "python",
   "nbconvert_exporter": "python",
   "pygments_lexer": "ipython2",
   "version": "2.7.11"
  }
 },
 "nbformat": 4,
 "nbformat_minor": 0
}
