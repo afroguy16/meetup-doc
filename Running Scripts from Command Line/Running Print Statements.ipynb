{
 "cells": [
  {
   "cell_type": "markdown",
   "metadata": {},
   "source": [
    "# A Lil insight into the Python Print function\n",
    "\n",
    "print is an inbuilt python function that writes to the console. What the print writes to the console depends on what is given to it to print. The print function can writes data such as integers, strings, boolean, lists etc. Practically waht so ever you give to the print function, it will write it out for the user to see....\n",
    "\n",
    "read more about the print function on the www.python.org website\n",
    "\n",
    "## Usage"
   ]
  },
  {
   "cell_type": "code",
   "execution_count": 1,
   "metadata": {
    "collapsed": false
   },
   "outputs": [
    {
     "name": "stdout",
     "output_type": "stream",
     "text": [
      "Hello World\n"
     ]
    }
   ],
   "source": [
    "print \"Hello World\""
   ]
  },
  {
   "cell_type": "markdown",
   "metadata": {},
   "source": [
    "# Hands On\n",
    "\n",
    "1. Create a file and call it \"script.py\" (this is just a name we using for now so we can be on the same page. You call the file any name u want just make sure it has the .py extension)\n",
    "2. In script.py write:\n",
    "    print \"Hello World\"\n",
    "3. Save the file\n",
    "4. Open the Command prompt and navigate to the folder where you have the file (script.py)\n",
    "5. Run this command: 'python script.py' without the quotes\n",
    "6. Hello World should be printed to the console (All things being equal)"
   ]
  },
  {
   "cell_type": "markdown",
   "metadata": {},
   "source": [
    "## Practice\n",
    "\n",
    "Create a file (give it any name you want but make sure it has the .py extension)\n",
    "\n",
    "#### In the File\n",
    "1. Create 10 variables (give them any name you want)\n",
    "2. Assign to each variable any data type value you want (make sure you use all the data types you know) example of data types are integers, strings, lists, set, dictionary, boolean etc\n",
    "3. Write a print for each variable\n",
    "4. Open your Command line and run the script"
   ]
  },
  {
   "cell_type": "markdown",
   "metadata": {},
   "source": [
    "## Submit\n",
    "\n",
    "Submit your answer to the group for review"
   ]
  },
  {
   "cell_type": "markdown",
   "metadata": {},
   "source": [
    "### Disclaimer\n",
    "For further errors contact us (on the Group)"
   ]
  },
  {
   "cell_type": "markdown",
   "metadata": {},
   "source": [
    "# Next\n",
    "\n",
    "Running Functions"
   ]
  }
 ],
 "metadata": {
  "kernelspec": {
   "display_name": "Python 2",
   "language": "python",
   "name": "python2"
  },
  "language_info": {
   "codemirror_mode": {
    "name": "ipython",
    "version": 2
   },
   "file_extension": ".py",
   "mimetype": "text/x-python",
   "name": "python",
   "nbconvert_exporter": "python",
   "pygments_lexer": "ipython2",
   "version": "2.7.11"
  }
 },
 "nbformat": 4,
 "nbformat_minor": 0
}
