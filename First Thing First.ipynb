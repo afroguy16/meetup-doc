{
 "cells": [
  {
   "cell_type": "markdown",
   "metadata": {},
   "source": [
    "# Welcome to the Developers Meetup Group Tutorial\n",
    "\n",
    "I would just like you to know some basic things about what we do at our Meetups and what you possibly should be looking forward to getting out of the meet up.\n",
    "\n",
    "\n",
    "## A lil History\n",
    "   Once upon a time in the 90's Nigeria came into existence and then our fore-fathers gave birth to our parents (well , sure u should all know about ur ancestory)......back to my story (****smiles****)\n",
    "   Along the way via different routes we all got into Progamming and got to know about a company called Andela (gbam!!!!). \n",
    "   \n",
    "   So it got to be that we all applied for Andela and then there was a group on Nairaland called Andela Nairaland Group (i cant really remember now, but m sure it had Andela in the name of the group) so there was a REV for a whatsapp group and people started dropping their number on the Nairaland group so to be added to the whatsapp group.... well the person writing this story also dropped his number but mehn for a long time there was nothing mehn.\n",
    "   \n",
    "   But there cam a man called Joe, he just thought of the idea of creating another whatsapp group jare and then my number and a lot of numbers were added... that was the way we found ourselves on the Whatsapp AndelaNairalandGroup... on the group we all discussed the Andela curriculum and practically treated all the test labs on the group (personally that was somehow though but we did it neways).\n",
    "   \n",
    "   Along the line came a wonderful lady called \"Blessed Yemie\", na she and \"Moyo\" change things wella for that WhatsApp Andela Group (WAG).. They both reved up the idea of a physical meetup for us to learn together. I personally supported the idea and some other people. so that was how we carved this group out of the Whatsapp Nairaland Group\n",
    "   \n",
    "   And this is how we all came up with the meeting place and how the whole thing is gonna run....... That's all for today maybe some other time well this is cos i dont know what to say after this.... thanks for reading if u actually read this\n",
    "    \n",
    "    \n",
    "   Now LET'S MOVE ON\n",
    "    \n",
    "\n",
    "Below are the aims and objectives of the group\n",
    "\n",
    "# AIM \n",
    "To support one another in becoming better programmers and developers through collaborative learning and exposure to development paradigms from the novice level to the Pro level....\n",
    "\n",
    "\n",
    "# OBJECTIVES\n",
    "1. To work as a team in supporting projects to it's uttermost achievement.\n",
    "2. To assist and encourage one another in achieving excellence in technology innovations and creations\n",
    "3. To create a team united with aspirations for long-term success in the tech world\n",
    "4. To collaboratively provide and support tech solutions and innovations to improve lives in developing countries and globally\n",
    "\n",
    "\n",
    "# Next\n",
    "Python Environment Setup"
   ]
  },
  {
   "cell_type": "code",
   "execution_count": null,
   "metadata": {
    "collapsed": true
   },
   "outputs": [],
   "source": []
  }
 ],
 "metadata": {
  "kernelspec": {
   "display_name": "Python 2",
   "language": "python",
   "name": "python2"
  },
  "language_info": {
   "codemirror_mode": {
    "name": "ipython",
    "version": 2
   },
   "file_extension": ".py",
   "mimetype": "text/x-python",
   "name": "python",
   "nbconvert_exporter": "python",
   "pygments_lexer": "ipython2",
   "version": "2.7.11"
  }
 },
 "nbformat": 4,
 "nbformat_minor": 0
}
