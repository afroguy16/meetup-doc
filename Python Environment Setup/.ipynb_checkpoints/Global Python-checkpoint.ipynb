{
 "cells": [
  {
   "cell_type": "markdown",
   "metadata": {},
   "source": [
    "# Recap\n",
    "\n",
    "What we are going to do here is to make python shell run from anywhere we open the command line\n",
    "\n",
    "Initially we where running the Python shell from the folder called C:\\Python27.\n",
    "\n",
    "Remember that when we opened our Command Prompt earlier we had to make sure that C:\\Python27 was showing on the cmd before we typed and enter the 'python' command. If the command prompt was not showing C:\\Python27 and you try to run the 'python' command, you will get an error saying that 'python' is not registered in your computer\n",
    "\n",
    "What this mean is that you can only run the 'python' command from that C:\\Python27 folder.\n",
    "\n",
    "At this point we are do something to our computer so that when we run the 'python' command from anywhere our command prompt is pointing to we would be able to enter into the python shell\n",
    "\n",
    "\n",
    "# Let's get Started\n",
    "\n",
    "First you have to know the directory Python is installed at and for us that should be C:\\Python27. if it is not C:\\Python27 then you should get the path to the folder.\n",
    "\n",
    "if you check that folder you should see folders and python.exe there\n",
    "All that we need right now is C:\\Python27 and C:\\Python27\\Scripts these are the things that hold what we need to make python and its packages available on a global state on your system\n",
    "\n",
    "Next thing is to add C:\\Python27 and C:\\Python27\\Scripts to your environment variables (if you know how to do that already, you can go ahead and do that)\n",
    "\n",
    "If you dont know how to go to www.computerhope.com/issues/ch000549.htm\n",
    "\n",
    "If there is any other issue pls contact the Group\n",
    "\n",
    "\n",
    "# NEXT: \n",
    "Setting Up pip (go to the Pip Installation folder and get started)"
   ]
  }
 ],
 "metadata": {
  "kernelspec": {
   "display_name": "Python 2",
   "language": "python",
   "name": "python2"
  },
  "language_info": {
   "codemirror_mode": {
    "name": "ipython",
    "version": 2
   },
   "file_extension": ".py",
   "mimetype": "text/x-python",
   "name": "python",
   "nbconvert_exporter": "python",
   "pygments_lexer": "ipython2",
   "version": "2.7.11"
  }
 },
 "nbformat": 4,
 "nbformat_minor": 0
}
