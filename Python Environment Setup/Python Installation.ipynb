{
 "cells": [
  {
   "cell_type": "markdown",
   "metadata": {},
   "source": [
    "###### What we are going to be doing here is to setup up our machine (laptops/computer) to be able to run Python programs\n",
    "\n",
    "# First thing \n",
    "    1. Download Python 2.7 from www.python.org/downloads/\n",
    "    2. Then install the application\n",
    "    3. Make sure the app installs at C:\\Python27\n",
    "    ---- To test:\n",
    "        a. open the command line (for windows machine:\n",
    "                                    use this command: windows+R,\n",
    "                                    in the dialog that popsup type 'cmd' and then enter )\n",
    "                                    \n",
    "        b. on the command line type 'cd C:\\Python27' ( this is called directory navigation )\n",
    "        \n",
    "        c. after typing that then press enter, then u should then see C:\\Python27. if you dont see C:\\Python27 then it means you are not in the directory that we need to be right now and the next command we would type would not run\n",
    "        \n",
    "        d. Everything being fine type 'python' and then press enter\n",
    "        \n",
    "        e. then u should see something like this\n",
    "        \n",
    "            Python 2.7.11 (v2.7.11:6d1b6a68f775, Dec  5 2015, 20:32:19) [MSC v.1500 32 bit (Intel)] on win32\n",
    "            Type \"help\", \"copyright\", \"credits\" or \"license\" for more information.                          \n",
    "            >>>   \n",
    "         \n",
    "This means that python is successfully installed on your machine (still locally-- meaning that it only run in the C:\\Python27 for now. We gonna do some things to make run everywhere and anywhere u open the command prompt)\n",
    "This means that you are in the python shell where u can write python commands. You can write anything python into this console.\n",
    "So if you know any Python program you can test it out here\n",
    "        \n",
    "\n",
    "\n",
    "# Next\n",
    "GLOBAL PYTHON\n",
    "\n"
   ]
  }
 ],
 "metadata": {
  "kernelspec": {
   "display_name": "Python 2",
   "language": "python",
   "name": "python2"
  },
  "language_info": {
   "codemirror_mode": {
    "name": "ipython",
    "version": 2
   },
   "file_extension": ".py",
   "mimetype": "text/x-python",
   "name": "python",
   "nbconvert_exporter": "python",
   "pygments_lexer": "ipython2",
   "version": "2.7.11"
  }
 },
 "nbformat": 4,
 "nbformat_minor": 0
}
