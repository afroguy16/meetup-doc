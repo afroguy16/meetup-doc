{
 "cells": [
  {
   "cell_type": "markdown",
   "metadata": {},
   "source": [
    "# iPython Intro\n",
    "\n",
    "## What is Ipython?\n",
    "\n",
    "\n",
    "iPython provides a rich architecture for interactive computing with:\n",
    "   1. A powerful interactive shell\n",
    "   2. A kernel for Jupyter\n",
    "   3. Support for interactive data visualization and use of GUI toolkits\n",
    "   4. Flexible, embedded interpreters to load into your own porjects\n",
    "   5. Easy to use, high performance tools for parallel computing\n",
    "    \n",
    "This book was entirely written with the ipython notebook called Jupyter as you can see\n",
    "\n",
    "Lets go on\n",
    "\n",
    "# NEXT \n",
    "iPython installation"
   ]
  }
 ],
 "metadata": {
  "kernelspec": {
   "display_name": "Python 2",
   "language": "python",
   "name": "python2"
  },
  "language_info": {
   "codemirror_mode": {
    "name": "ipython",
    "version": 2
   },
   "file_extension": ".py",
   "mimetype": "text/x-python",
   "name": "python",
   "nbconvert_exporter": "python",
   "pygments_lexer": "ipython2",
   "version": "2.7.11"
  }
 },
 "nbformat": 4,
 "nbformat_minor": 0
}
