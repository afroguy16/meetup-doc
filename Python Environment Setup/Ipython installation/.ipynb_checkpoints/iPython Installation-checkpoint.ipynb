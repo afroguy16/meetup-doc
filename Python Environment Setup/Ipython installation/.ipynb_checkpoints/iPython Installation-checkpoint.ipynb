{
 "cells": [
  {
   "cell_type": "markdown",
   "metadata": {},
   "source": [
    "# How to Install iPython\n",
    "\n",
    "This is very easy\n",
    "\n",
    "Open your command line and enter this command 'pip install ipython[all]'\n",
    "\n",
    "This command will install all the ipython package\n",
    "\n",
    "After the installation is done enter this command 'ipython notebook'\n",
    "\n",
    "This should open up your browser and you should be able to see jupyter at the top\n",
    "\n",
    "\n",
    "Further utilisation of ipython will be discussed\n",
    "\n",
    "or you can browse more on how to use ipython notebook\n",
    "\n",
    "# Next \n",
    "Running Scripts via the Command Line"
   ]
  }
 ],
 "metadata": {
  "kernelspec": {
   "display_name": "Python 2",
   "language": "python",
   "name": "python2"
  },
  "language_info": {
   "codemirror_mode": {
    "name": "ipython",
    "version": 2
   },
   "file_extension": ".py",
   "mimetype": "text/x-python",
   "name": "python",
   "nbconvert_exporter": "python",
   "pygments_lexer": "ipython2",
   "version": "2.7.11"
  }
 },
 "nbformat": 4,
 "nbformat_minor": 0
}
