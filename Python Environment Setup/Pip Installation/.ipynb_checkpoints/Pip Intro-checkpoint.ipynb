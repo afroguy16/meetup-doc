{
 "cells": [
  {
   "cell_type": "markdown",
   "metadata": {},
   "source": [
    "# What is pip?\n",
    "\n",
    "Pip is a package management installation system used to install and manage software packages written in Python. Python 2.7.* and Python 3.4.* has pip by default -- meaning that from the time you installed Python, pip comes with it.\n",
    "\n",
    "After adding Python paths to you environment variables then we should be able to call python from anywhere you open the command line.\n",
    "This is also the same for pip which normally is inside the Python scripts folder\n",
    "\n",
    "Open the Command Prompt and enter 'pip'.\n",
    "All things being equal you should not get an error.\n",
    "\n",
    "if you get an error it is either the C:\\Python27\\Scripts is not added to the environment variables or pip did not come with your Python installation\n",
    "\n",
    "# Troubleshooting\n",
    "Check if there is C:\\Python27\\Scripts in your Environment variables\n",
    "\n",
    "       if it is there then it means that you dont have pip with your Python installation.\n",
    "       Check the Pip Installation file of this book\n",
    " \n",
    "# Next \n",
    "Pip Installation\n",
    "    \n",
    "# Need Help?\n",
    "For any other problem pls contact the group"
   ]
  }
 ],
 "metadata": {
  "kernelspec": {
   "display_name": "Python 2",
   "language": "python",
   "name": "python2"
  },
  "language_info": {
   "codemirror_mode": {
    "name": "ipython",
    "version": 2
   },
   "file_extension": ".py",
   "mimetype": "text/x-python",
   "name": "python",
   "nbconvert_exporter": "python",
   "pygments_lexer": "ipython2",
   "version": "2.7.11"
  }
 },
 "nbformat": 4,
 "nbformat_minor": 0
}
