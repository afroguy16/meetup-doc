{
 "cells": [
  {
   "cell_type": "markdown",
   "metadata": {},
   "source": [
    "# Dice Rolling Simulator\n",
    "\n",
    "#### The Goal: \n",
    "Like the title suggests, this project involves writing a program that simulates rolling dice. When the program runs, it will randomly choose a number between 1 and 6. (Or whatever other integer you prefer — the number of sides on the die is up to you.) The program will print what that number is. It should then ask you if you’d like to roll again. For this project, you’ll need to set the min and max number that your dice can produce. For the average die, that means a minimum of 1 and a maximum of 6. You’ll also want a function that randomly grabs a number within that range and prints it.\n",
    "\n",
    "## Concepts to keep in mind:\n",
    "\n",
    "1. Random\n",
    "2. Integer\n",
    "3. Print\n",
    "4. While Loops\n",
    "\n",
    "A good project for beginners, this project will help establish a solid foundation for basic concepts. And if you already have programming experience, chances are that the concepts used in this project aren’t completely foreign to you. Print, for example, is similar to Javascript’s console.log."
   ]
  },
  {
   "cell_type": "code",
   "execution_count": null,
   "metadata": {
    "collapsed": false,
    "scrolled": true
   },
   "outputs": [],
   "source": [
    "# write  something that will always print out a random number\n",
    "# code that asks the user if he/she wants to roll again\n",
    "\n",
    "import random\n",
    "\n",
    "def askUser():\n",
    "    answer = raw_input(\"Do you wanna roll again (y/n): \")\n",
    "\n",
    "    if answer == 'y':\n",
    "        roll()\n",
    "    else:\n",
    "        print \"Thanks for rolling the dice\"\n",
    "        exit()\n",
    "\n",
    "def roll():\n",
    "    print random.randint(1,6)\n",
    "    askUser()\n",
    "\n",
    "roll()"
   ]
  },
  {
   "cell_type": "markdown",
   "metadata": {},
   "source": [
    "# Next\n",
    "Practice all the Homeworks\n",
    "\n",
    "# Submission\n",
    "To tijesunimi48@gmail.com"
   ]
  }
 ],
 "metadata": {
  "kernelspec": {
   "display_name": "Python 2",
   "language": "python",
   "name": "python2"
  },
  "language_info": {
   "codemirror_mode": {
    "name": "ipython",
    "version": 2
   },
   "file_extension": ".py",
   "mimetype": "text/x-python",
   "name": "python",
   "nbconvert_exporter": "python",
   "pygments_lexer": "ipython2",
   "version": "2.7.11"
  }
 },
 "nbformat": 4,
 "nbformat_minor": 0
}
